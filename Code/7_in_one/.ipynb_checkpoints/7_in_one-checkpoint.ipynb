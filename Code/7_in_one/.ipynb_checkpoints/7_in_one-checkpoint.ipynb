{
 "cells": [
  {
   "cell_type": "markdown",
   "metadata": {},
   "source": [
    "First import all dependencies."
   ]
  },
  {
   "cell_type": "code",
   "execution_count": null,
   "metadata": {},
   "outputs": [],
   "source": [
    "import gym\n",
    "import stable_baselines3\n",
    "from stable_baselines3 import A2C, DQN, PPO\n",
    "from stable_baselines3.common.vec_env import VecFrameStack\n",
    "from stable_baselines3.common.evaluation import evaluate_policy\n",
    "from stable_baselines3.common.env_util import make_vec_env\n",
    "from stable_baselines3.common.env_util import make_atari_env\n",
    "import os\n"
   ]
  },
  {
   "cell_type": "markdown",
   "metadata": {},
   "source": [
    "Setting up the first environment"
   ]
  },
  {
   "cell_type": "code",
   "execution_count": null,
   "metadata": {},
   "outputs": [],
   "source": [
    "env = gym.make('Breakout-v0')\n",
    "env.reset()"
   ]
  },
  {
   "cell_type": "code",
   "execution_count": null,
   "metadata": {},
   "outputs": [],
   "source": [
    "env = make_atari_env('Breakout-v0', n_envs=1, seed=0)\n",
    "env = VecFrameStack(env, n_stack=1)"
   ]
  },
  {
   "cell_type": "markdown",
   "metadata": {},
   "source": [
    "Setting up the log and saved paths"
   ]
  },
  {
   "cell_type": "code",
   "execution_count": null,
   "metadata": {},
   "outputs": [],
   "source": [
    "Log_path = os.path.join('Training', 'Logs', 'Breakout')\n",
    "a2c_path = os.path.join('Training', 'A2C_Breakout')\n",
    "dqn_path = os.path.join('Training', 'DQN_Breakout')\n",
    "ppo_path = os.path.join('Training', 'PPO_Breakout')"
   ]
  },
  {
   "cell_type": "markdown",
   "metadata": {},
   "source": [
    "Running the three agents in the first environment. Using CnnPolicy for picture input"
   ]
  },
  {
   "cell_type": "code",
   "execution_count": null,
   "metadata": {},
   "outputs": [],
   "source": [
    "model = A2C('CnnPolicy', env, verbose=1, tensorboard_log=Log_path, device='cuda')\n",
    "model.learn(total_timesteps=250000, log_interval=200)\n",
    "model.save(a2c_path)\n",
    "del model"
   ]
  },
  {
   "cell_type": "code",
   "execution_count": null,
   "metadata": {},
   "outputs": [],
   "source": [
    "model = DQN('CnnPolicy', env, verbose=1, tensorboard_log=Log_path, device='cuda', buffer_size=10000)\n",
    "model.learn(total_timesteps=250000, log_interval=200)\n",
    "model.save(dqn_path)\n",
    "del model"
   ]
  },
  {
   "cell_type": "code",
   "execution_count": null,
   "metadata": {},
   "outputs": [],
   "source": [
    "model = PPO('CnnPolicy', env, verbose=1, tensorboard_log=Log_path, device='cuda')\n",
    "model.learn(total_timesteps=250000, log_interval=1)\n",
    "model.save(ppo_path)\n",
    "del model"
   ]
  },
  {
   "cell_type": "markdown",
   "metadata": {},
   "source": [
    "Setting up the second environment. Pong"
   ]
  },
  {
   "cell_type": "code",
   "execution_count": null,
   "metadata": {},
   "outputs": [],
   "source": [
    "env = gym.make(\"Pong-v0\")\n",
    "env.reset()"
   ]
  },
  {
   "cell_type": "code",
   "execution_count": null,
   "metadata": {},
   "outputs": [],
   "source": [
    "env = make_atari_env('Pong-v0', n_envs=1, seed=0)\n",
    "env = VecFrameStack(env, n_stack=1)"
   ]
  },
  {
   "cell_type": "markdown",
   "metadata": {},
   "source": [
    "Setting up the new log paths"
   ]
  },
  {
   "cell_type": "code",
   "execution_count": null,
   "metadata": {},
   "outputs": [],
   "source": [
    "Log_path = os.path.join('Training', 'Logs', 'Pong')\n",
    "a2c_path = os.path.join('Training', 'A2C_Pong')\n",
    "dqn_path = os.path.join('Training', 'DQN_Pong')\n",
    "ppo_path = os.path.join('Training', 'PPO_Pong')"
   ]
  },
  {
   "cell_type": "markdown",
   "metadata": {},
   "source": [
    "Training fresh agents in pong. Once again CnnPolicy"
   ]
  },
  {
   "cell_type": "code",
   "execution_count": null,
   "metadata": {},
   "outputs": [],
   "source": [
    "model = A2C('CnnPolicy', env, verbose=1, tensorboard_log=Log_path, device='cuda')\n",
    "model.learn(total_timesteps=250000, log_interval=200)\n",
    "model.save(a2c_path)\n",
    "del model"
   ]
  },
  {
   "cell_type": "code",
   "execution_count": null,
   "metadata": {},
   "outputs": [],
   "source": [
    "model = DQN('CnnPolicy', env, verbose=1, tensorboard_log=Log_path, device='cuda', buffer_size=10000, _init_setup_model=1)\n",
    "model.learn(total_timesteps=250000, log_interval=1)\n",
    "model.save(dqn_path)\n",
    "del model"
   ]
  },
  {
   "cell_type": "code",
   "execution_count": null,
   "metadata": {},
   "outputs": [],
   "source": [
    "model = PPO('CnnPolicy', env, verbose=1, tensorboard_log=Log_path, device='cuda')\n",
    "model.learn(total_timesteps=250000, log_interval=1)\n",
    "model.save(ppo_path)\n",
    "del model"
   ]
  },
  {
   "cell_type": "markdown",
   "metadata": {},
   "source": [
    "Thrird environment is Blackjack."
   ]
  },
  {
   "cell_type": "code",
   "execution_count": null,
   "metadata": {},
   "outputs": [],
   "source": [
    "env = gym.make('ALE/Blackjack-v5', )\n",
    "env.reset()"
   ]
  },
  {
   "cell_type": "code",
   "execution_count": null,
   "metadata": {},
   "outputs": [],
   "source": [
    "Log_path = os.path.join('Training', 'Logs', 'Blackjack')\n",
    "a2c_path = os.path.join('Training', 'A2C_Blackjack')\n",
    "dqn_path = os.path.join('Training', 'DQN_Blackjack')\n",
    "ppo_path = os.path.join('Training', 'PPO_Blackjack')"
   ]
  },
  {
   "cell_type": "markdown",
   "metadata": {},
   "source": [
    "Training the fresh agents in blackjack. MlpPolicy becuase there are no picture input"
   ]
  },
  {
   "cell_type": "code",
   "execution_count": null,
   "metadata": {},
   "outputs": [],
   "source": [
    "model = A2C('MlpPolicy', env, verbose=1, tensorboard_log=Log_path, device='cuda')\n",
    "model.learn(total_timesteps=250000, log_interval=200)\n",
    "model.save(a2c_path)\n",
    "del model"
   ]
  },
  {
   "cell_type": "code",
   "execution_count": null,
   "metadata": {},
   "outputs": [],
   "source": [
    "model = DQN('MlpPolicy', env, verbose=1, tensorboard_log=Log_path, device='cuda', buffer_size=10000)\n",
    "model.learn(total_timesteps=250000, log_interval=1)\n",
    "model.save(dqn_path)\n",
    "del model"
   ]
  },
  {
   "cell_type": "code",
   "execution_count": null,
   "metadata": {},
   "outputs": [],
   "source": [
    "model = PPO('MlpPolicy', env, verbose=1, tensorboard_log=Log_path, device='cuda')\n",
    "model.learn(total_timesteps=250000, log_interval=1)\n",
    "model.save(ppo_path)\n",
    "del model"
   ]
  },
  {
   "cell_type": "markdown",
   "metadata": {},
   "source": [
    "Fourth environment is taxi. Same as before."
   ]
  },
  {
   "cell_type": "code",
   "execution_count": null,
   "metadata": {},
   "outputs": [],
   "source": [
    "env = gym.make(\"Taxi-v3\")\n",
    "env.reset()"
   ]
  },
  {
   "cell_type": "code",
   "execution_count": null,
   "metadata": {},
   "outputs": [],
   "source": [
    "Log_path = os.path.join('Training', 'Logs', 'Taxi')\n",
    "a2c_path = os.path.join('Training', 'A2C_Taxi')\n",
    "dqn_path = os.path.join('Training', 'DQN_Taxi')\n",
    "ppo_path = os.path.join('Training', 'PPO_Taxi')"
   ]
  },
  {
   "cell_type": "markdown",
   "metadata": {},
   "source": [
    "Training the agents again."
   ]
  },
  {
   "cell_type": "code",
   "execution_count": null,
   "metadata": {},
   "outputs": [],
   "source": [
    "model = A2C('MlpPolicy', env, verbose=1, tensorboard_log=Log_path, device='cuda')\n",
    "model.learn(total_timesteps=250000, log_interval=200)\n",
    "model.save(a2c_path)\n",
    "del model"
   ]
  },
  {
   "cell_type": "code",
   "execution_count": null,
   "metadata": {},
   "outputs": [],
   "source": [
    "model = DQN('MlpPolicy', env, verbose=1, tensorboard_log=Log_path, device='cuda', buffer_size=1000)\n",
    "model.learn(total_timesteps=250000, log_interval=10)\n",
    "model.save(dqn_path)\n",
    "del model"
   ]
  },
  {
   "cell_type": "code",
   "execution_count": null,
   "metadata": {},
   "outputs": [],
   "source": [
    "model = PPO('MlpPolicy', env, verbose=1, tensorboard_log=Log_path, device='cuda')\n",
    "model.learn(total_timesteps=250000, log_interval=1)\n",
    "model.save(ppo_path)\n",
    "del model"
   ]
  },
  {
   "cell_type": "markdown",
   "metadata": {},
   "source": [
    "Last environment is Cartpole."
   ]
  },
  {
   "cell_type": "code",
   "execution_count": null,
   "metadata": {},
   "outputs": [],
   "source": [
    "env = gym.make(\"CartPole-v1\")\n",
    "env.reset()"
   ]
  },
  {
   "cell_type": "code",
   "execution_count": null,
   "metadata": {},
   "outputs": [],
   "source": [
    "Log_path = os.path.join('Training', 'Logs', 'Pole')\n",
    "a2c_path = os.path.join('Training', 'A2C_Pole')\n",
    "dqn_path = os.path.join('Training', 'DQN_Pole')\n",
    "ppo_path = os.path.join('Training', 'PPO_Pole')"
   ]
  },
  {
   "cell_type": "markdown",
   "metadata": {},
   "source": [
    "Last training session"
   ]
  },
  {
   "cell_type": "code",
   "execution_count": null,
   "metadata": {},
   "outputs": [],
   "source": [
    "model = A2C('MlpPolicy', env, verbose=1, tensorboard_log=Log_path, device='cuda')\n",
    "model.learn(total_timesteps=250000, log_interval=200)\n",
    "model.save(a2c_path)\n",
    "del model"
   ]
  },
  {
   "cell_type": "code",
   "execution_count": null,
   "metadata": {},
   "outputs": [],
   "source": [
    "model = DQN('MlpPolicy', env, verbose=1, tensorboard_log=Log_path, device='cuda', buffer_size=1000)\n",
    "model.learn(total_timesteps=250000, log_interval=10)\n",
    "model.save(dqn_path)\n",
    "del model"
   ]
  },
  {
   "cell_type": "code",
   "execution_count": null,
   "metadata": {},
   "outputs": [],
   "source": [
    "model = PPO('MlpPolicy', env, verbose=1, tensorboard_log=Log_path, device='cuda')\n",
    "model.learn(total_timesteps=250000, log_interval=1)\n",
    "model.save(ppo_path)\n",
    "del model"
   ]
  },
  {
   "cell_type": "markdown",
   "metadata": {},
   "source": [
    "All data has been made and collecter. View it be typing:\n",
    "\n",
    "tensorboard --logdir .\\Training\\Logs\\\n",
    "\n",
    "in the Terminal"
   ]
  }
 ],
 "metadata": {
  "kernelspec": {
   "display_name": "Python 3 (ipykernel)",
   "language": "python",
   "name": "python3"
  },
  "language_info": {
   "codemirror_mode": {
    "name": "ipython",
    "version": 3
   },
   "file_extension": ".py",
   "mimetype": "text/x-python",
   "name": "python",
   "nbconvert_exporter": "python",
   "pygments_lexer": "ipython3",
   "version": "3.9.12"
  },
  "vscode": {
   "interpreter": {
    "hash": "63db100d1a0652d8064be74b307479d2b4bbc02ebad2805b02a036aecc086f7f"
   }
  }
 },
 "nbformat": 4,
 "nbformat_minor": 2
}

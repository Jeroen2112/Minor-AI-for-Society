{
 "cells": [
  {
   "cell_type": "code",
   "execution_count": null,
   "metadata": {},
   "outputs": [],
   "source": [
    "import gym\n",
    "from stable_baselines3 import A2C, DQN, PPO\n",
    "from stable_baselines3.common.vec_env import VecFrameStack\n",
    "from stable_baselines3.common.evaluation import evaluate_policy\n",
    "from stable_baselines3.common.env_util import make_vec_env\n",
    "from stable_baselines3.common.env_util import make_atari_env\n",
    "import os"
   ]
  },
  {
   "cell_type": "markdown",
   "metadata": {},
   "source": [
    "Starting with breakout Number 1"
   ]
  },
  {
   "cell_type": "code",
   "execution_count": null,
   "metadata": {},
   "outputs": [],
   "source": [
    "env = gym.make('Breakout-v0')\n",
    "env.reset()"
   ]
  },
  {
   "cell_type": "code",
   "execution_count": null,
   "metadata": {},
   "outputs": [],
   "source": [
    "env = make_atari_env('Breakout-v0', n_envs=1, seed=0)\n",
    "env = VecFrameStack(env, n_stack=1)"
   ]
  },
  {
   "cell_type": "code",
   "execution_count": null,
   "metadata": {},
   "outputs": [],
   "source": [
    "Log_path = os.path.join('Training', 'Logs', 'Breakout')\n",
    "a2c_path = os.path.join('Training', 'A2C_Breakout')\n",
    "dqn_path = os.path.join('Training', 'DQN_Breakout')\n",
    "ppo_path = os.path.join('Training', 'PPO_Breakout')"
   ]
  },
  {
   "cell_type": "code",
   "execution_count": null,
   "metadata": {},
   "outputs": [],
   "source": [
    "model = A2C('CnnPolicy', env, verbose=1, tensorboard_log=Log_path, device='cuda')\n",
    "model.learn(total_timesteps=500, log_interval=50)\n",
    "model.save(a2c_path)\n",
    "del model"
   ]
  },
  {
   "cell_type": "code",
   "execution_count": null,
   "metadata": {},
   "outputs": [],
   "source": [
    "model = DQN('CnnPolicy', env, verbose=1, tensorboard_log=Log_path, device='cuda')\n",
    "model.learn(total_timesteps=500000, log_interval=250)\n",
    "model.save(dqn_path)\n",
    "del model"
   ]
  },
  {
   "cell_type": "markdown",
   "metadata": {},
   "source": [
    "Going to Pingpong number 2"
   ]
  },
  {
   "cell_type": "code",
   "execution_count": null,
   "metadata": {},
   "outputs": [],
   "source": [
    "env = gym.make(\"Pong-v0\")\n",
    "env.reset()"
   ]
  },
  {
   "cell_type": "code",
   "execution_count": null,
   "metadata": {},
   "outputs": [],
   "source": [
    "env = make_atari_env('Pong-v0', n_envs=1, seed=0)\n",
    "env = VecFrameStack(env, n_stack=1)"
   ]
  },
  {
   "cell_type": "code",
   "execution_count": null,
   "metadata": {},
   "outputs": [],
   "source": [
    "Log_path = os.path.join('Training', 'Logs', 'Pong')\n",
    "a2c_path = os.path.join('Training', 'A2C_Pong')\n",
    "dqn_path = os.path.join('Training', 'DQN_Pong')"
   ]
  },
  {
   "cell_type": "code",
   "execution_count": null,
   "metadata": {},
   "outputs": [],
   "source": [
    "model = A2C('CnnPolicy', env, verbose=1, tensorboard_log=Log_path, device='cuda')\n",
    "model.learn(total_timesteps=500000, log_interval=250)\n",
    "model.save(a2c_path)\n",
    "del model"
   ]
  },
  {
   "cell_type": "code",
   "execution_count": null,
   "metadata": {},
   "outputs": [],
   "source": [
    "model = DQN('CnnPolicy', env, verbose=1, tensorboard_log=Log_path, device='cuda')\n",
    "model.learn(total_timesteps=500000, log_interval=250)\n",
    "model.save(dqn_path)\n",
    "del model"
   ]
  },
  {
   "cell_type": "code",
   "execution_count": null,
   "metadata": {},
   "outputs": [],
   "source": [
    "model = PPO('CnnPolicy', env, verbose=1, tensorboard_log=Log_path, device='cuda')\n",
    "model.learn(total_timesteps=5000, log_interval=250)\n",
    "model.save(ppo_path)"
   ]
  },
  {
   "cell_type": "markdown",
   "metadata": {},
   "source": [
    "Going to LunarLander number 3"
   ]
  },
  {
   "cell_type": "code",
   "execution_count": null,
   "metadata": {},
   "outputs": [],
   "source": [
    "env = gym.make(\"CarRacing-v0\")\n",
    "env.reset()"
   ]
  },
  {
   "cell_type": "code",
   "execution_count": null,
   "metadata": {},
   "outputs": [],
   "source": [
    "Log_path = os.path.join('Training', 'Logs', 'LunarLander')\n",
    "a2c_path = os.path.join('Training', 'A2C_Lunar')\n",
    "dqn_path = os.path.join('Training', 'DQN_Lunar')"
   ]
  },
  {
   "cell_type": "code",
   "execution_count": null,
   "metadata": {},
   "outputs": [],
   "source": [
    "model = A2C('MlpPolicy', env, verbose=1, tensorboard_log=Log_path, device='cuda')\n",
    "model.learn(total_timesteps=500, log_interval=50)\n",
    "model.save(a2c_path)\n",
    "del model"
   ]
  },
  {
   "cell_type": "code",
   "execution_count": null,
   "metadata": {},
   "outputs": [],
   "source": [
    "model = DQN('MlpPolicy', env, verbose=1, tensorboard_log=Log_path, device='cuda')\n",
    "model.learn(total_timesteps=500000, log_interval=250)\n",
    "model.save(dqn_path)\n",
    "del model"
   ]
  }
 ],
 "metadata": {
  "kernelspec": {
   "display_name": "Python 3.10.8 64-bit",
   "language": "python",
   "name": "python3"
  },
  "language_info": {
   "codemirror_mode": {
    "name": "ipython",
    "version": 3
   },
   "file_extension": ".py",
   "mimetype": "text/x-python",
   "name": "python",
   "nbconvert_exporter": "python",
   "pygments_lexer": "ipython3",
   "version": "3.10.8"
  },
  "orig_nbformat": 4,
  "vscode": {
   "interpreter": {
    "hash": "63db100d1a0652d8064be74b307479d2b4bbc02ebad2805b02a036aecc086f7f"
   }
  }
 },
 "nbformat": 4,
 "nbformat_minor": 2
}
